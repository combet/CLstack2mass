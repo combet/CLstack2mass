{
 "cells": [
  {
   "cell_type": "raw",
   "metadata": {},
   "source": [
    "Asptroy tables are great to work with, and can be used for all kind of\n",
    "analysis in the context of our cluster study. You can apply filters,\n",
    "group by column, concatenate them, etc. For a detailed review on\n",
    "Astropy tables, see `there <http://docs.astropy.org/en/stable/table/>`_.\n",
    "\n",
    "Load the table\n",
    "~~~~~~~~~~~~~~\n",
    "\n",
    "The ``Astropy`` tables created by the ``clusters_data`` step are saved\n",
    "in an ``hdf5`` file, and contains two tables, corresponding to two\n",
    "output catalogs of the data processing using the DM stack. As an\n",
    "example, we will use here the ``forced`` catalog, corresponding to the\n",
    "forced photometry processing (`some details\n",
    "<https://confluence.lsstcorp.org/display/DM/S15+Multi-Band+Coadd+Processing+Prototype>`_).\n",
    "\n",
    "If you want to start an analysis with an existing ``hdf5`` file containing catalgs, you can use the one we have created for MACSJ2243.3-0935, which is saved at CC-IN2P3 under::\n",
    "\n",
    "  /sps/lsst/data/clusters/MACSJ2243.3-0935/analysis/output_v1/MACSJ2243.3-0935_data.hdf5\n",
    "\n",
    "To load the ``forced`` catalog, do:"
   ]
  },
  {
   "cell_type": "code",
   "execution_count": 3,
   "metadata": {
    "collapsed": true
   },
   "outputs": [],
   "source": [
    "from Clusters import data\n",
    "f = \"/sps/lsst/data/clusters/MACSJ2243.3-0935/analysis/output_v1/MACSJ2243.3-0935_data.hdf5\"\n",
    "d = data.read_data(f)\n",
    "fc = d['forced']"
   ]
  },
  {
   "cell_type": "raw",
   "metadata": {},
   "source": [
    "``d`` is a dictionnary containing the 'forced' and 'meas' catalogs"
   ]
  },
  {
   "cell_type": "code",
   "execution_count": 4,
   "metadata": {
    "collapsed": false
   },
   "outputs": [
    {
     "name": "stdout",
     "output_type": "stream",
     "text": [
      "['forced', 'meas']\n"
     ]
    }
   ],
   "source": [
    "print d.keys()"
   ]
  },
  {
   "cell_type": "raw",
   "metadata": {},
   "source": [
    "and ``fc`` is an astropy table"
   ]
  },
  {
   "cell_type": "code",
   "execution_count": 12,
   "metadata": {
    "collapsed": false
   },
   "outputs": [
    {
     "name": "stdout",
     "output_type": "stream",
     "text": [
      "base_CircularApertureFlux_70_0_flux ... coord_dec_deg \n",
      "                 ct                 ...      deg      \n",
      "----------------------------------- ... --------------\n",
      "                                nan ... -9.50417299504\n",
      "                                nan ... -9.50631091083\n",
      "                                nan ... -9.50631273401\n",
      "                                nan ... -9.50632589495\n",
      "                                nan ...  -9.5063327395\n",
      "                                nan ...  -9.5062460577\n",
      "                                nan ... -9.50629874096\n",
      "                                nan ... -9.50635437897\n",
      "                                nan ... -9.50600120865\n",
      "                                nan ... -9.50549567214\n",
      "                                ... ...            ...\n",
      "                      1.50556364615 ... -9.73333093082\n",
      "                      3.38628042737 ... -9.73388006895\n",
      "                      34.7225751682 ...  -9.7302761071\n",
      "                      34.9437715002 ... -9.73010079525\n",
      "                      33.6814404931 ... -9.72701283749\n",
      "                      30.9058971442 ...  -9.7273114286\n",
      "                     -57.1279619848 ... -9.91085559972\n",
      "                      -8.0121195399 ... -9.91084514606\n",
      "                     -7.38991968287 ...  -9.8851539436\n",
      "                     -20.8298629206 ... -9.88578472829\n",
      "Length = 1050500 rows\n"
     ]
    }
   ],
   "source": [
    "print fc"
   ]
  },
  {
   "cell_type": "raw",
   "metadata": {},
   "source": [
    "As you can see, there are "
   ]
  },
  {
   "cell_type": "code",
   "execution_count": 23,
   "metadata": {
    "collapsed": false
   },
   "outputs": [
    {
     "name": "stdout",
     "output_type": "stream",
     "text": [
      "1050500 rows\n"
     ]
    }
   ],
   "source": [
    "N = len(fc)\n",
    "print N, \"rows\""
   ]
  },
  {
   "cell_type": "raw",
   "metadata": {},
   "source": [
    "in this table. This number correspond to the number of sources (ns) times the number of filters (nf): N = ns x nf. In this table, we have the following number of filter:"
   ]
  },
  {
   "cell_type": "code",
   "execution_count": 21,
   "metadata": {
    "collapsed": false
   },
   "outputs": [
    {
     "name": "stdout",
     "output_type": "stream",
     "text": [
      "5 filters\n"
     ]
    }
   ],
   "source": [
    "nf = len(fc.group_by('objectId').groups[0])\n",
    "print nf, \"filters\""
   ]
  },
  {
   "cell_type": "raw",
   "metadata": {},
   "source": [
    "The number of sources in this catalogs if thus:"
   ]
  },
  {
   "cell_type": "code",
   "execution_count": 24,
   "metadata": {
    "collapsed": false
   },
   "outputs": [
    {
     "name": "stdout",
     "output_type": "stream",
     "text": [
      "210100 sources\n"
     ]
    }
   ],
   "source": [
    "ns = N / nf\n",
    "print ns, \"sources\""
   ]
  },
  {
   "cell_type": "raw",
   "metadata": {},
   "source": [
    "The number of columns corresponding to the number of keys available in the catalogs is:"
   ]
  },
  {
   "cell_type": "code",
   "execution_count": 31,
   "metadata": {
    "collapsed": false
   },
   "outputs": [
    {
     "name": "stdout",
     "output_type": "stream",
     "text": [
      "195 columns\n",
      "base_CircularApertureFlux_12_0_flag\n",
      "base_CircularApertureFlux_12_0_flag_apertureTruncated\n",
      "base_CircularApertureFlux_12_0_flux\n",
      "base_CircularApertureFlux_12_0_fluxSigma\n",
      "base_CircularApertureFlux_12_0_mag\n",
      "base_CircularApertureFlux_12_0_magSigma\n",
      "base_CircularApertureFlux_17_0_flag\n",
      "base_CircularApertureFlux_17_0_flag_apertureTruncated\n",
      "base_CircularApertureFlux_17_0_flux\n",
      "base_CircularApertureFlux_17_0_fluxSigma\n"
     ]
    }
   ],
   "source": [
    "print \"%i columns\" % len(fc.keys())\n",
    "for k in sorted(fc.keys())[:10]:\n",
    "    print k"
   ]
  },
  {
   "cell_type": "raw",
   "metadata": {},
   "source": [
    "Apply filters\n",
    "~~~~~~~~~~~~~\n",
    "\n",
    "You can filter this table to, for example, only keep the ``i`` and ``r`` magnitude of the ``base_CircularApertureFlux_12_0_mag`` for all sources:"
   ]
  },
  {
   "cell_type": "code",
   "execution_count": 27,
   "metadata": {
    "collapsed": false
   },
   "outputs": [],
   "source": [
    "magi = fc['base_CircularApertureFlux_12_0_mag'][fc['filter'] == 'i']\n",
    "magr = fc['base_CircularApertureFlux_12_0_mag'][fc['filter'] == 'r']"
   ]
  },
  {
   "cell_type": "code",
   "execution_count": 29,
   "metadata": {
    "collapsed": false
   },
   "outputs": [
    {
     "data": {
      "text/plain": [
       "<matplotlib.collections.PathCollection at 0x7fe0f75886d0>"
      ]
     },
     "execution_count": 29,
     "metadata": {},
     "output_type": "execute_result"
    },
    {
     "data": {
      "image/png": "[encoded data removed]",
      "text/plain": [
       "<matplotlib.figure.Figure at 0x7fdfeafec6d0>"
      ]
     },
     "metadata": {},
     "output_type": "display_data"
    }
   ],
   "source": [
    "%matplotlib inline\n",
    "import pylab\n",
    "pylab.scatter(magi, magr)"
   ]
  },
  {
   "cell_type": "raw",
   "metadata": {},
   "source": [
    "or with an other flux measurement"
   ]
  },
  {
   "cell_type": "code",
   "execution_count": 32,
   "metadata": {
    "collapsed": false
   },
   "outputs": [
    {
     "data": {
      "text/plain": [
       "<matplotlib.collections.PathCollection at 0x7fdfeafe5f10>"
      ]
     },
     "execution_count": 32,
     "metadata": {},
     "output_type": "execute_result"
    },
    {
     "data": {
      "image/png": "[encoded data removed]",
      "text/plain": [
       "<matplotlib.figure.Figure at 0x7fe0f294cd50>"
      ]
     },
     "metadata": {},
     "output_type": "display_data"
    }
   ],
   "source": [
    "magi = fc['modelfit_CModel_mag'][fc['filter'] == 'i']\n",
    "magr = fc['modelfit_CModel_mag'][fc['filter'] == 'r']\n",
    "pylab.scatter(magi, magr)"
   ]
  },
  {
   "cell_type": "raw",
   "metadata": {},
   "source": [
    "Add a new column\n",
    "~~~~~~~~~~~~~~~~\n",
    "\n",
    "If you want to add a new column to the table"
   ]
  },
  {
   "cell_type": "code",
   "execution_count": null,
   "metadata": {
    "collapsed": true
   },
   "outputs": [],
   "source": []
  }
 ],
 "metadata": {
  "kernelspec": {
   "display_name": "Python 2",
   "language": "python",
   "name": "python2"
  },
  "language_info": {
   "codemirror_mode": {
    "name": "ipython",
    "version": 2
   },
   "file_extension": ".py",
   "mimetype": "text/x-python",
   "name": "python",
   "nbconvert_exporter": "python",
   "pygments_lexer": "ipython2",
   "version": "2.7.11"
  }
 },
 "nbformat": 4,
 "nbformat_minor": 0
}
